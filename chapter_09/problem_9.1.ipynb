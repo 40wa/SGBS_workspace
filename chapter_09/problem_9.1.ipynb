{
 "cells": [
  {
   "cell_type": "markdown",
   "metadata": {},
   "source": [
    "### Problem 9.1.13"
   ]
  },
  {
   "cell_type": "markdown",
   "metadata": {},
   "source": [
    "Data: 200 ticks, 11 disease-positive.\n",
    "What is the posterior?\n",
    "\n",
    "Prior was $beta(1,1)$, likelihood was $Bin(\\theta, 200)$.\n",
    "\n",
    "So posterior is given by $beta(11+1, 200-11+1) = beta(12,190)$"
   ]
  },
  {
   "cell_type": "code",
   "execution_count": 2,
   "metadata": {},
   "outputs": [],
   "source": [
    "import pandas as pd\n",
    "import matplotlib.pyplot as plt\n",
    "import numpy as np\n",
    "plt.style.use('dark_background')"
   ]
  },
  {
   "cell_type": "code",
   "execution_count": 38,
   "metadata": {},
   "outputs": [],
   "source": [
    "theta_samples = np.random.beta(12,190, size=10000)\n",
    "bin_samples = np.random.binomial(100, theta_samples)"
   ]
  },
  {
   "cell_type": "code",
   "execution_count": 58,
   "metadata": {},
   "outputs": [
    {
     "data": {
      "text/plain": [
       "(array([ 393.,  645., 1019., 1301., 1362., 1341., 1200.,  951.,  652.,\n",
       "         475.,  273.,  169.,  120.,   50.,   22.,   15.,    6.,    4.,\n",
       "           0.,    2.]),\n",
       " array([ 0.  ,  1.05,  2.1 ,  3.15,  4.2 ,  5.25,  6.3 ,  7.35,  8.4 ,\n",
       "         9.45, 10.5 , 11.55, 12.6 , 13.65, 14.7 , 15.75, 16.8 , 17.85,\n",
       "        18.9 , 19.95, 21.  ]),\n",
       " <BarContainer object of 20 artists>)"
      ]
     },
     "execution_count": 58,
     "metadata": {},
     "output_type": "execute_result"
    },
    {
     "data": {
      "image/png": "[encoded data removed]",
      "text/plain": [
       "<Figure size 432x288 with 1 Axes>"
      ]
     },
     "metadata": {},
     "output_type": "display_data"
    }
   ],
   "source": [
    "plt.hist(bin_samples, bins=20)"
   ]
  },
  {
   "cell_type": "markdown",
   "metadata": {},
   "source": [
    "### Problem 9.1.14\n",
    "Does it match the data? Mode of the posterior predictive distribution is 5, for n=100, ie. 1/20. The sample data was 11/200, or roughly 1/20. Yes, this aligns with the data."
   ]
  },
  {
   "cell_type": "markdown",
   "metadata": {},
   "source": [
    "### Problem 9.1.15\n",
    "Do we expect this model to hold across future sampling efforts? No. The sample size of 200 and 11 positive tick is very low."
   ]
  },
  {
   "cell_type": "markdown",
   "metadata": {},
   "source": [
    "### Problem 9.1.16\n",
    "Assume uniform prior on $\\theta$. What is the shape of the prior on $\\theta^2$?"
   ]
  },
  {
   "cell_type": "code",
   "execution_count": 69,
   "metadata": {},
   "outputs": [
    {
     "data": {
      "text/plain": [
       "(array([ 9930., 10060.,  9985., 10046., 10077.,  9900.,  9971., 10044.,\n",
       "        10113.,  9874.]),\n",
       " array([1.10167522e-05, 1.00008563e-01, 2.00006109e-01, 3.00003656e-01,\n",
       "        4.00001202e-01, 4.99998748e-01, 5.99996294e-01, 6.99993841e-01,\n",
       "        7.99991387e-01, 8.99988933e-01, 9.99986479e-01]),\n",
       " <BarContainer object of 10 artists>)"
      ]
     },
     "execution_count": 69,
     "metadata": {},
     "output_type": "execute_result"
    },
    {
     "data": {
      "image/png": "[encoded data removed]",
      "text/plain": [
       "<Figure size 432x288 with 1 Axes>"
      ]
     },
     "metadata": {},
     "output_type": "display_data"
    }
   ],
   "source": [
    "uniform_sample = np.random.uniform(size=100000)\n",
    "plt.hist(uniform_sample)"
   ]
  },
  {
   "cell_type": "code",
   "execution_count": 75,
   "metadata": {},
   "outputs": [
    {
     "data": {
      "image/png": "[encoded data removed]",
      "text/plain": [
       "<Figure size 432x288 with 1 Axes>"
      ]
     },
     "metadata": {},
     "output_type": "display_data"
    }
   ],
   "source": [
    "plt.hist(np.power(uniform_sample, 2), bins=500)\n",
    "plt.show()"
   ]
  },
  {
   "cell_type": "code",
   "execution_count": null,
   "metadata": {},
   "outputs": [],
   "source": []
  }
 ],
 "metadata": {
  "kernelspec": {
   "display_name": "Python 3",
   "language": "python",
   "name": "python3"
  },
  "language_info": {
   "codemirror_mode": {
    "name": "ipython",
    "version": 3
   },
   "file_extension": ".py",
   "mimetype": "text/x-python",
   "name": "python",
   "nbconvert_exporter": "python",
   "pygments_lexer": "ipython3",
   "version": "3.9.1"
  }
 },
 "nbformat": 4,
 "nbformat_minor": 4
}
