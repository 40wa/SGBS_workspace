{
 "cells": [
  {
   "cell_type": "code",
   "execution_count": 1,
   "metadata": {},
   "outputs": [],
   "source": [
    "import pandas as pd\n",
    "l_bv = pd.read_csv('../data/likelihood_blogVisits.csv', header=None)"
   ]
  },
  {
   "cell_type": "markdown",
   "metadata": {},
   "source": [
    "### Problem 4.1.4\n",
    "**Derive an estimate for the mean number of visits per minute.**"
   ]
  },
  {
   "cell_type": "markdown",
   "metadata": {},
   "source": [
    "We estimate mean with the MLE of the Exponential distribution, given by: \n",
    "\n",
    "\\begin{equation}\n",
    "\\hat{\\lambda} = \\frac{N}{\\sum d}\n",
    "\\end{equation}\n",
    "\n",
    "For $N$ observations, and summing over $d$, each data point.\n",
    "\n",
    "The mean is then given by $\\hat{\\lambda}^{-1}$."
   ]
  },
  {
   "cell_type": "code",
   "execution_count": 2,
   "metadata": {},
   "outputs": [
    {
     "name": "stdout",
     "output_type": "stream",
     "text": [
      "lam 1.626214586271851\n"
     ]
    }
   ],
   "source": [
    "def MLE_exp(data):\n",
    "    N = len(data)\n",
    "    denom = data[0].sum()\n",
    "    return N / denom\n",
    "\n",
    "lam = MLE_exp(l_bv)\n",
    "print('lam', lam)"
   ]
  },
  {
   "cell_type": "markdown",
   "metadata": {},
   "source": [
    "### Problem 4.1.5\n",
    "**Graph the log-likelihood near the MLE. Why do we not plot the likelihood?**"
   ]
  },
  {
   "cell_type": "markdown",
   "metadata": {},
   "source": [
    "\\begin{align}\n",
    "\\mathcal{L}(\\lambda \\mid D) &= \\textrm{p}(D \\mid \\lambda) \\\\\n",
    "    &= \\prod \\textrm{p}(d \\mid \\lambda) \\\\\n",
    "    &= \\lambda^{N}e^{-\\lambda \\sum d} \\\\\n",
    "\\textrm{log} \\mathcal{L}(\\lambda \\mid D) &= N \\textrm{log}(\\lambda) - \\lambda \\sum d \\\\\n",
    "\\end{align}\n",
    "\n",
    "We don't plot the likelihood because it is the product of many exponentiations, and hence not visually informative."
   ]
  },
  {
   "cell_type": "code",
   "execution_count": 3,
   "metadata": {},
   "outputs": [
    {
     "data": {
      "text/plain": [
       "[<matplotlib.lines.Line2D at 0x7f461f5c8490>]"
      ]
     },
     "execution_count": 3,
     "metadata": {},
     "output_type": "execute_result"
    },
    {
     "data": {
      "image/png": "[encoded data removed]",
      "text/plain": [
       "<Figure size 432x288 with 1 Axes>"
      ]
     },
     "metadata": {},
     "output_type": "display_data"
    }
   ],
   "source": [
    "import numpy as np\n",
    "import matplotlib.pyplot as plt\n",
    "from matplotlib import style\n",
    "style.use('dark_background')\n",
    "\n",
    "\n",
    "def loglikelihood(lam, data):\n",
    "    N = len(data)\n",
    "    accum = data[0].sum()\n",
    "    return N * np.log(lam) - lam * accum\n",
    "\n",
    "space = np.linspace(0.01,10)\n",
    "plt.plot(space, loglikelihood(space, l_bv))"
   ]
  },
  {
   "cell_type": "markdown",
   "metadata": {},
   "source": [
    "### Problem 4.1.6\n",
    "**Estimate 95% confidence intervals around your mean value**"
   ]
  },
  {
   "cell_type": "code",
   "execution_count": 4,
   "metadata": {},
   "outputs": [
    {
     "name": "stdout",
     "output_type": "stream",
     "text": [
      "81.31072931359255\n"
     ]
    }
   ],
   "source": [
    "# We use the Asymptotic normality \n",
    "\n",
    "print(len(l_bv) * lam)"
   ]
  },
  {
   "cell_type": "markdown",
   "metadata": {},
   "source": [
    "We use the Asymptotic Normality of the MLE.\n",
    "This assumption means that if the MLE is an unbiased estimator for the true parameter, and given some regularity assumptions, that the error of the MLE wrt the true parameter is limits as follows:\n",
    "\n",
    "\\begin{equation}\n",
    "\\sqrt{N}\\left(\\hat{\\theta} - \\theta_0\\right) \\rightarrow \\mathcal{N}\\left(0, \\frac{1}{\\mathcal{I}_{1}(\\theta_0)}\\right)\n",
    "\\end{equation}\n",
    "\n",
    "For $\\mathcal{I}_1(\\theta_0)$ being the Fisher information from a single data point. However, the Observed Information is equal to this in the limit, and hence we may alternatively (and validly) use $I(\\hat{\\theta})$ for the OI of a single point.\n",
    "This is given by $ - l''(\\theta \\mid D)$, namely differentiating the log-likelihood of $\\theta$ given all data $D$, evaluated at $\\hat{\\theta}$. This results in:\n",
    "\n",
    "\\begin{align}\n",
    "\\sqrt{N} \\left(\\hat{\\theta} - \\theta_0\\right) &\\rightarrow \\mathcal{N}\\left(0, \\frac{1}{-l''(\\theta \\mid D)}\\right)\\\\\n",
    "\\end{align}\n",
    "\n",
    "For our 95% interval, we get:\n",
    "\\begin{align}\n",
    "\\sqrt{N} \\left(\\hat{\\theta} - \\theta_0\\right) &\\in \\left[-\\frac{1.96}{\\sqrt{-l''(\\theta \\mid D)}},  \\frac{1.96}{\\sqrt{-l''(\\theta \\mid D)}}\\right]\\\\\n",
    "\\theta_0 &\\in \\left[\\hat{\\theta} - \\frac{1.96}{\\sqrt{-Nl''(\\theta \\mid D)}}, \\hat{\\theta} + \\frac{1.96}{\\sqrt{-Nl''(\\theta \\mid D)}} \\right]\n",
    "\\end{align}\n",
    "\n",
    "We can algebraically verify that:\n",
    "\\begin{equation}\n",
    "l''(\\theta \\mid D) = -\\frac{N}{\\theta^2}\n",
    "\\end{equation}\n",
    "\n",
    "Then for $N = 50, \\hat{\\theta} = 1.626$, we have:\n",
    "\\begin{equation}\n",
    "\\theta_0 \\in \\left[ 1.56226, 1.68973 \\right]\n",
    "\\end{equation}\n",
    "\n",
    "\n"
   ]
  },
  {
   "cell_type": "markdown",
   "metadata": {},
   "source": [
    "### Problem 4.1.7\n",
    "**What does your interval mean?**"
   ]
  },
  {
   "cell_type": "markdown",
   "metadata": {},
   "source": [
    "The interval calculated is the interval within which we are 95% certain the population mean lies, given the data gathered."
   ]
  },
  {
   "cell_type": "markdown",
   "metadata": {},
   "source": [
    "### Problem 4.1.6\n",
    "**Using your MLE, what is the probability you will wait: a) 1 min or more, b) 5 min or more, c) half an hour or more?**"
   ]
  },
  {
   "cell_type": "markdown",
   "metadata": {},
   "source": [
    "Quantities sought:\n",
    "\n",
    "a) $\\mathbb{P}(X > 1) = 1 - F_X(1) = e^{-\\lambda}$\n",
    "\n",
    "b) $\\mathbb{P}(X > 5) = 1 - F_X(5) = e^{-5\\lambda}$\n",
    "\n",
    "c) $\\mathbb{P}(X > 30) = 1 - F_X(30) = e^{-30\\lambda}$"
   ]
  },
  {
   "cell_type": "code",
   "execution_count": 14,
   "metadata": {},
   "outputs": [
    {
     "name": "stdout",
     "output_type": "stream",
     "text": [
      "a) 0.19667265417194016\n",
      "b) 0.00029425231883585523\n",
      "c) 6.491115902137732e-22\n"
     ]
    }
   ],
   "source": [
    "print('a)', np.exp(-lam))\n",
    "print('b)', np.exp(-5 * lam))\n",
    "print('c)', np.exp(-30 * lam))"
   ]
  },
  {
   "cell_type": "markdown",
   "metadata": {},
   "source": [
    "### Problem 4.1.9\n",
    "**Evaluate your model.**"
   ]
  },
  {
   "cell_type": "markdown",
   "metadata": {},
   "source": [
    "The model makes some assumptions which aren't necessarily realistic--that there is some underlying basal rate at which visits are made to the site doesn't hold in the case of a site which gradually gains in popularity. A tight spread implies reasonable confidence in our MLE however."
   ]
  },
  {
   "cell_type": "markdown",
   "metadata": {},
   "source": [
    "### Problem 4.1.0\n",
    "**Can you think of a better model? What assumptions are relaxed in this model?**"
   ]
  },
  {
   "cell_type": "code",
   "execution_count": 7,
   "metadata": {},
   "outputs": [
    {
     "data": {
      "text/plain": [
       "(array([[10.,  2.,  0.,  0.,  1.,  0.,  1.,  0.,  0.,  0.,  0.,  0.,  0.,\n",
       "          0.,  0.,  1.],\n",
       "        [ 5.,  5.,  5.,  1.,  0.,  0.,  0.,  0.,  0.,  0.,  0.,  0.,  0.,\n",
       "          0.,  0.,  0.]]),\n",
       " array([ 0. ,  1.5,  3. ,  4.5,  6. ,  7.5,  9. , 10.5, 12. , 13.5, 15. ,\n",
       "        16.5, 18. , 19.5, 21. , 22.5, 24. ]),\n",
       " <a list of 2 BarContainer objects>)"
      ]
     },
     "execution_count": 7,
     "metadata": {},
     "output_type": "execute_result"
    },
    {
     "data": {
      "image/png": "[encoded data removed]",
      "text/plain": [
       "<Figure size 432x288 with 1 Axes>"
      ]
     },
     "metadata": {},
     "output_type": "display_data"
    }
   ],
   "source": [
    "plt.hist(np.histogram(l_bv, bins='auto'), bins='auto')"
   ]
  },
  {
   "cell_type": "markdown",
   "metadata": {},
   "source": [
    "### Problem 4.2.1\n",
    "**Graph the violent crime count against population size across all the counties. What relationship suggested?**"
   ]
  },
  {
   "cell_type": "code",
   "execution_count": 11,
   "metadata": {},
   "outputs": [],
   "source": [
    "l_nyc = pd.read_csv('../data/likelihood_NewYorkCrimeUnemployment.csv')\n",
    "l_nyc['Population'] = l_nyc['Population'].apply(lambda x: int(x.replace(',','')))\n",
    "l_nyc['Violent_crime_count'] = l_nyc['Violent_crime_count'].apply(lambda x: int(x.replace(',','')))"
   ]
  },
  {
   "cell_type": "code",
   "execution_count": 13,
   "metadata": {},
   "outputs": [
    {
     "name": "stdout",
     "output_type": "stream",
     "text": [
      "        County  Population  Violent_crime_count  Unemployment\n",
      "0       Albany      308166                  993          0.05\n",
      "1     Allegany       47972                   68          0.06\n",
      "2        Bronx     1440569                12713          0.11\n",
      "3       Broome      197126                  494          0.06\n",
      "4  Cattaraugus       76828                  133          0.07\n"
     ]
    },
    {
     "data": {
      "text/plain": [
       "<matplotlib.collections.PathCollection at 0x7f461efb8790>"
      ]
     },
     "execution_count": 13,
     "metadata": {},
     "output_type": "execute_result"
    },
    {
     "data": {
      "image/png": "[encoded data removed]",
      "text/plain": [
       "<Figure size 1440x720 with 1 Axes>"
      ]
     },
     "metadata": {},
     "output_type": "display_data"
    }
   ],
   "source": [
    "print(l_nyc.head())\n",
    "\n",
    "plt.figure(figsize=(20,10))\n",
    "plt.scatter(np.log(l_nyc['Population']), np.log(l_nyc['Violent_crime_count']))\n",
    "# As the graph indicates, a linear relationship seems appropriate."
   ]
  },
  {
   "cell_type": "markdown",
   "metadata": {},
   "source": [
    "### Problem 4.2.2\n",
    "**A simple model might be to assume that the crime count in a particular county is related to population size by:**\n",
    "\\begin{equation}\n",
    "crime_i \\sim Poisson(n_i \\theta)\n",
    "\\end{equation}\n",
    "For $crime_i$ and $n_i$ being crime count and population in county $i$. What is the likelihood?"
   ]
  },
  {
   "cell_type": "markdown",
   "metadata": {},
   "source": [
    "\\begin{align}\n",
    "C &\\sim Po(n_i \\theta) \\\\\n",
    "f_C(c) &= \\frac{(n_i \\theta)^c e^{-n_i \\theta}}{c!} \\\\\n",
    "\\mathcal{L}(\\theta \\mid D) &= \\prod p(d \\mid \\theta)\\\\\n",
    "&= \\prod \\frac{(n_i \\theta)^c e^{-n_i \\theta}}{c!} \\\\\n",
    "\\end{align}"
   ]
  },
  {
   "cell_type": "markdown",
   "metadata": {},
   "source": [
    "### Problem 4.2.3\n",
    "**Find the MLE of the parameters**"
   ]
  },
  {
   "cell_type": "markdown",
   "metadata": {},
   "source": [
    "Given by: $\\frac{\\sum c_i}{\\sum n_i}$."
   ]
  },
  {
   "cell_type": "code",
   "execution_count": 15,
   "metadata": {},
   "outputs": [
    {
     "data": {
      "text/plain": [
       "0.003660906259312395"
      ]
     },
     "execution_count": 15,
     "metadata": {},
     "output_type": "execute_result"
    }
   ],
   "source": [
    "def MLE_crime_population(data):\n",
    "        crime_sum = np.sum(data['Violent_crime_count'])\n",
    "        population_sum = np.sum(data['Population'])\n",
    "        return crime_sum / population_sum\n",
    "    \n",
    "MLE_crime_population(l_nyc) "
   ]
  }
 ],
 "metadata": {
  "kernelspec": {
   "display_name": "Python 3",
   "language": "python",
   "name": "python3"
  },
  "language_info": {
   "codemirror_mode": {
    "name": "ipython",
    "version": 3
   },
   "file_extension": ".py",
   "mimetype": "text/x-python",
   "name": "python",
   "nbconvert_exporter": "python",
   "pygments_lexer": "ipython3",
   "version": "3.9.0"
  }
 },
 "nbformat": 4,
 "nbformat_minor": 4
}
