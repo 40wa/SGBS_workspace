{
 "cells": [
  {
   "cell_type": "markdown",
   "metadata": {},
   "source": [
    "# Problem 3.5.1\n",
    "**Suppose people's names are always two letters long, sampled from 26 letters of Latin alphabet. No constraints on names.**\n",
    "**How many people would need to be gathered in one place for therer to be a 50% probability that at least two of them share the same name?**"
   ]
  },
  {
   "cell_type": "markdown",
   "metadata": {},
   "source": [
    "\\begin{equation*}\n",
    "\\mathbb{P}(\\textrm{No Collision} | k,N) = 1 - \\frac{\\frac{N!}{(N-k)!}}{N^k}\n",
    "\\end{equation*}"
   ]
  },
  {
   "cell_type": "code",
   "execution_count": 41,
   "metadata": {},
   "outputs": [],
   "source": [
    "import math\n",
    "\n",
    "def stirlingFactorial(n): \n",
    "    if (n == 1): \n",
    "        return 1\n",
    "    elif (n == 0):\n",
    "        return 1\n",
    "      \n",
    "    # value of natural e \n",
    "    e = 2.71\n",
    "      \n",
    "    # evaluating factorial using \n",
    "    # stirling approximation \n",
    "    z = (pow(2 * 3.14 * n, 0.5) * pow((n / e), n)) \n",
    "    return math.floor(z) "
   ]
  },
  {
   "cell_type": "code",
   "execution_count": 42,
   "metadata": {},
   "outputs": [],
   "source": [
    "# Namely what is the chance of no collision for alphabet of size V and k people?\n",
    "import numpy as np\n",
    "\n",
    "def chance_of_collision(N, k):\n",
    "    fact = stirlingFactorial\n",
    "    numer = (fact(N) / fact(N-k))\n",
    "    denom = (pow(N, k))\n",
    "    return 1 - numer/denom"
   ]
  },
  {
   "cell_type": "code",
   "execution_count": 57,
   "metadata": {},
   "outputs": [
    {
     "data": {
      "text/plain": [
       "[<matplotlib.lines.Line2D at 0x7fef511f2c40>]"
      ]
     },
     "execution_count": 57,
     "metadata": {},
     "output_type": "execute_result"
    },
    {
     "data": {
      "image/png": "[encoded data removed]",
      "text/plain": [
       "<Figure size 432x288 with 1 Axes>"
      ]
     },
     "metadata": {},
     "output_type": "display_data"
    }
   ],
   "source": [
    "# import matplotlib.pyplot as plt\n",
    "from matplotlib import style\n",
    "style.use('dark_background')\n",
    "\n",
    "alphactr = 11\n",
    "V = pow(alphactr, 2)\n",
    "X = np.linspace(1, V, V).astype(int)\n",
    "\n",
    "chances = [chance_of_collision(V, k) for k in X.tolist()]\n",
    "\n",
    "plt.plot(X, chances)"
   ]
  },
  {
   "cell_type": "code",
   "execution_count": 34,
   "metadata": {},
   "outputs": [
    {
     "data": {
      "text/plain": [
       "100"
      ]
     },
     "execution_count": 34,
     "metadata": {},
     "output_type": "execute_result"
    }
   ],
   "source": []
  }
 ],
 "metadata": {
  "kernelspec": {
   "display_name": "Python 3",
   "language": "python",
   "name": "python3"
  },
  "language_info": {
   "codemirror_mode": {
    "name": "ipython",
    "version": 3
   },
   "file_extension": ".py",
   "mimetype": "text/x-python",
   "name": "python",
   "nbconvert_exporter": "python",
   "pygments_lexer": "ipython3",
   "version": "3.9.0"
  }
 },
 "nbformat": 4,
 "nbformat_minor": 4
}
