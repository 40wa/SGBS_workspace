{
 "cells": [
  {
   "cell_type": "markdown",
   "metadata": {},
   "source": [
    "### Problem 6.2.1\n",
    "**Suppose that we flip two coins, each of which has $Pr(H) = \\theta_i$ where $i \\in \\{1,2\\}$, which is unknown. If outcomes the same, success; otherwise failure. We repeatedly flip both coins ( a single trial) and record whether the outcome is a success or failure. We do not record the result of flipping each coin. Suppose we model the number of failures, $X$, we have to undergo to attain $n$ successes.**"
   ]
  },
  {
   "cell_type": "markdown",
   "metadata": {},
   "source": [
    "Assume the coin flips are independent from each other.\n",
    "Then use a Bernoulli model for each double success / failure.\n",
    "\n",
    "\\begin{align}\n",
    "Pr(H) &= \\theta_1 \\theta_2 + (1 - \\theta_1)(1-\\theta_2)\\\\\n",
    "      &= 1 + 2\\theta_1 \\theta_2 + \\theta_1 + \\theta_2\\\\\n",
    "      &= \\gamma\n",
    "\\end{align}\n",
    "\n",
    "We take the above as the parameter for our Bernoulli model.\n",
    "\n",
    "And use a Negative Binomial for the number of failures $X$ before $n$ successes.\n",
    "\n",
    "First we model for $X$ failures and $n-1$ successes. This can be done easily by Binomial:\n",
    "\\begin{equation}\n",
    "{x + n - 1 \\choose n - 1} \\gamma^{n-1} (1-\\gamma)^{x}\n",
    "\\end{equation}\n",
    "\n",
    "Then multiply by $\\gamma$ for the final success:\n",
    "\\begin{equation}\n",
    "f_n(x) = {x + n - 1 \\choose n - 1} \\gamma^{n} (1-\\gamma)^{x}\n",
    "\\end{equation}"
   ]
  },
  {
   "cell_type": "code",
   "execution_count": 65,
   "metadata": {},
   "outputs": [],
   "source": [
    "import pandas as pd\n",
    "import numpy as np\n",
    "import scipy.integrate\n",
    "import scipy.stats\n",
    "import math\n",
    "fs = pd.read_csv('../data/denominator_NBCoins.csv')\n",
    "\n",
    "# Uniform priors for coin 1 and 2"
   ]
  },
  {
   "cell_type": "markdown",
   "metadata": {},
   "source": [
    "\\begin{align}\n",
    "p(\\theta_1, \\theta_2 \\mid D) &= \\frac{p(D \\mid \\theta_1, \\theta_2) p(\\theta_1, \\theta_2)}{p(D)}\\\\\n",
    "p(D) &= \\int_{\\Theta_2} \\int_{\\Theta_2} p(D \\mid \\theta_1, \\theta_2) p(\\theta_1,\\theta_2) d \\theta_1 d\\theta_2\\\\\n",
    "&= \\prod_d \\int_{\\Theta_2}\\int_{\\Theta_1} p(d \\mid \\theta_1, \\theta_2) p(\\theta_1,\\theta_2) d\\theta_1 d\\theta_2\n",
    "\\end{align}"
   ]
  },
  {
   "cell_type": "code",
   "execution_count": 71,
   "metadata": {},
   "outputs": [],
   "source": [
    "def prob_nb(d, th1, th2):\n",
    "    # Get p( d | th1, th2)\n",
    "    gam = th1 * th2 + (1 - th1) * (1 - th2)\n",
    "    return math.comb(4 + d, 4) * pow(gam, 5) * pow(1 - gam, d)"
   ]
  },
  {
   "cell_type": "code",
   "execution_count": 72,
   "metadata": {},
   "outputs": [],
   "source": [
    "def proc_datum(d):\n",
    "    return scipy.integrate.dblquad(lambda th1,th2: prob_nb(d, th1,th2), 0,1, lambda x:0,lambda x:1)"
   ]
  },
  {
   "cell_type": "code",
   "execution_count": 78,
   "metadata": {},
   "outputs": [
    {
     "name": "stdout",
     "output_type": "stream",
     "text": [
      "3.132696030002341463041553122E-230\n"
     ]
    }
   ],
   "source": [
    "import decimal\n",
    "vs = fs.astype(int).values.flatten()\n",
    "vs = [decimal.Decimal(proc_datum(d)[0]) for d in vs]\n",
    "print(np.prod(vs))"
   ]
  }
 ],
 "metadata": {
  "kernelspec": {
   "display_name": "Python 3",
   "language": "python",
   "name": "python3"
  },
  "language_info": {
   "codemirror_mode": {
    "name": "ipython",
    "version": 3
   },
   "file_extension": ".py",
   "mimetype": "text/x-python",
   "name": "python",
   "nbconvert_exporter": "python",
   "pygments_lexer": "ipython3",
   "version": "3.9.1"
  }
 },
 "nbformat": 4,
 "nbformat_minor": 4
}
